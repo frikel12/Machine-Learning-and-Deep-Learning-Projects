{
  "nbformat": 4,
  "nbformat_minor": 0,
  "metadata": {
    "colab": {
      "provenance": [],
      "gpuType": "T4",
      "include_colab_link": true
    },
    "kernelspec": {
      "name": "python3",
      "display_name": "Python 3"
    },
    "language_info": {
      "name": "python"
    },
    "accelerator": "GPU"
  },
  "cells": [
    {
      "cell_type": "markdown",
      "metadata": {
        "id": "view-in-github",
        "colab_type": "text"
      },
      "source": [
        "<a href=\"https://colab.research.google.com/github/frikel12/Machine-Learning-and-Deep-Learningproject/blob/main/Moroccan_Sentiment_Analysis_using_EmbeddingLayer_with_ANN.ipynb\" target=\"_parent\"><img src=\"https://colab.research.google.com/assets/colab-badge.svg\" alt=\"Open In Colab\"/></a>"
      ]
    },
    {
      "cell_type": "code",
      "execution_count": null,
      "metadata": {
        "id": "UIQrmpDQIZHM"
      },
      "outputs": [],
      "source": []
    },
    {
      "cell_type": "markdown",
      "source": [
        "#Importing Library"
      ],
      "metadata": {
        "id": "0PtIlvf-zPcC"
      }
    },
    {
      "cell_type": "code",
      "source": [
        "import numpy as np\n",
        "import pandas as pd\n",
        "import string\n",
        "import re\n",
        "import nltk\n",
        "from nltk.corpus import stopwords\n",
        "\n",
        "from tensorflow.keras.preprocessing.text import Tokenizer\n",
        "from tensorflow.keras.preprocessing.sequence import pad_sequences\n",
        "import matplotlib.pyplot as plt\n",
        "import seaborn as sns\n",
        "import tensorflow as tf\n"
      ],
      "metadata": {
        "id": "p8Wgr3G0ZShz"
      },
      "execution_count": null,
      "outputs": []
    },
    {
      "cell_type": "markdown",
      "source": [
        "#Loading the Data"
      ],
      "metadata": {
        "id": "3ajysm7-zUMr"
      }
    },
    {
      "cell_type": "code",
      "execution_count": null,
      "metadata": {
        "id": "hRGtshBuADpR",
        "colab": {
          "base_uri": "https://localhost:8080/"
        },
        "outputId": "ac79d756-0355-4883-d165-0e02a1ad5676"
      },
      "outputs": [
        {
          "output_type": "stream",
          "name": "stdout",
          "text": [
            "Drive already mounted at /content/drive; to attempt to forcibly remount, call drive.mount(\"/content/drive\", force_remount=True).\n"
          ]
        }
      ],
      "source": [
        "from google.colab import drive\n",
        "\n",
        "drive.mount('/content/drive')\n",
        "\n",
        "path='/content/drive/My Drive/Datasets/marocSA/train.csv'\n",
        "train = pd.read_csv(path)\n"
      ]
    },
    {
      "cell_type": "code",
      "source": [
        "train.head()"
      ],
      "metadata": {
        "colab": {
          "base_uri": "https://localhost:8080/",
          "height": 206
        },
        "id": "Fjhj0W_gAtbr",
        "outputId": "626c6be9-aa70-4191-a69e-ed0236e2ca76"
      },
      "execution_count": null,
      "outputs": [
        {
          "output_type": "execute_result",
          "data": {
            "text/plain": [
              "   ID                                            comment  label\n",
              "0   1  انا اوصي من هذا المنبر الكل للتوجه الى مراكز ا...      1\n",
              "1   2  \\nهناك الكثير لا يفهم المقصود كورونا ليست صعبة...      1\n",
              "2   3  الحمد لله ارقام مقبولة مقارنة بدول المنطقة لول...      1\n",
              "3   4  انا شخصيا أؤيد ما فرضته السلطات من ضرورة الإدل...      1\n",
              "4   5  \\nنفس الشئ في مدينة برشيد مراكز التلقيح مغلقة ...      1"
            ],
            "text/html": [
              "\n",
              "  <div id=\"df-d6af4d1d-eb51-451a-9480-751075216842\" class=\"colab-df-container\">\n",
              "    <div>\n",
              "<style scoped>\n",
              "    .dataframe tbody tr th:only-of-type {\n",
              "        vertical-align: middle;\n",
              "    }\n",
              "\n",
              "    .dataframe tbody tr th {\n",
              "        vertical-align: top;\n",
              "    }\n",
              "\n",
              "    .dataframe thead th {\n",
              "        text-align: right;\n",
              "    }\n",
              "</style>\n",
              "<table border=\"1\" class=\"dataframe\">\n",
              "  <thead>\n",
              "    <tr style=\"text-align: right;\">\n",
              "      <th></th>\n",
              "      <th>ID</th>\n",
              "      <th>comment</th>\n",
              "      <th>label</th>\n",
              "    </tr>\n",
              "  </thead>\n",
              "  <tbody>\n",
              "    <tr>\n",
              "      <th>0</th>\n",
              "      <td>1</td>\n",
              "      <td>انا اوصي من هذا المنبر الكل للتوجه الى مراكز ا...</td>\n",
              "      <td>1</td>\n",
              "    </tr>\n",
              "    <tr>\n",
              "      <th>1</th>\n",
              "      <td>2</td>\n",
              "      <td>\\nهناك الكثير لا يفهم المقصود كورونا ليست صعبة...</td>\n",
              "      <td>1</td>\n",
              "    </tr>\n",
              "    <tr>\n",
              "      <th>2</th>\n",
              "      <td>3</td>\n",
              "      <td>الحمد لله ارقام مقبولة مقارنة بدول المنطقة لول...</td>\n",
              "      <td>1</td>\n",
              "    </tr>\n",
              "    <tr>\n",
              "      <th>3</th>\n",
              "      <td>4</td>\n",
              "      <td>انا شخصيا أؤيد ما فرضته السلطات من ضرورة الإدل...</td>\n",
              "      <td>1</td>\n",
              "    </tr>\n",
              "    <tr>\n",
              "      <th>4</th>\n",
              "      <td>5</td>\n",
              "      <td>\\nنفس الشئ في مدينة برشيد مراكز التلقيح مغلقة ...</td>\n",
              "      <td>1</td>\n",
              "    </tr>\n",
              "  </tbody>\n",
              "</table>\n",
              "</div>\n",
              "    <div class=\"colab-df-buttons\">\n",
              "\n",
              "  <div class=\"colab-df-container\">\n",
              "    <button class=\"colab-df-convert\" onclick=\"convertToInteractive('df-d6af4d1d-eb51-451a-9480-751075216842')\"\n",
              "            title=\"Convert this dataframe to an interactive table.\"\n",
              "            style=\"display:none;\">\n",
              "\n",
              "  <svg xmlns=\"http://www.w3.org/2000/svg\" height=\"24px\" viewBox=\"0 -960 960 960\">\n",
              "    <path d=\"M120-120v-720h720v720H120Zm60-500h600v-160H180v160Zm220 220h160v-160H400v160Zm0 220h160v-160H400v160ZM180-400h160v-160H180v160Zm440 0h160v-160H620v160ZM180-180h160v-160H180v160Zm440 0h160v-160H620v160Z\"/>\n",
              "  </svg>\n",
              "    </button>\n",
              "\n",
              "  <style>\n",
              "    .colab-df-container {\n",
              "      display:flex;\n",
              "      gap: 12px;\n",
              "    }\n",
              "\n",
              "    .colab-df-convert {\n",
              "      background-color: #E8F0FE;\n",
              "      border: none;\n",
              "      border-radius: 50%;\n",
              "      cursor: pointer;\n",
              "      display: none;\n",
              "      fill: #1967D2;\n",
              "      height: 32px;\n",
              "      padding: 0 0 0 0;\n",
              "      width: 32px;\n",
              "    }\n",
              "\n",
              "    .colab-df-convert:hover {\n",
              "      background-color: #E2EBFA;\n",
              "      box-shadow: 0px 1px 2px rgba(60, 64, 67, 0.3), 0px 1px 3px 1px rgba(60, 64, 67, 0.15);\n",
              "      fill: #174EA6;\n",
              "    }\n",
              "\n",
              "    .colab-df-buttons div {\n",
              "      margin-bottom: 4px;\n",
              "    }\n",
              "\n",
              "    [theme=dark] .colab-df-convert {\n",
              "      background-color: #3B4455;\n",
              "      fill: #D2E3FC;\n",
              "    }\n",
              "\n",
              "    [theme=dark] .colab-df-convert:hover {\n",
              "      background-color: #434B5C;\n",
              "      box-shadow: 0px 1px 3px 1px rgba(0, 0, 0, 0.15);\n",
              "      filter: drop-shadow(0px 1px 2px rgba(0, 0, 0, 0.3));\n",
              "      fill: #FFFFFF;\n",
              "    }\n",
              "  </style>\n",
              "\n",
              "    <script>\n",
              "      const buttonEl =\n",
              "        document.querySelector('#df-d6af4d1d-eb51-451a-9480-751075216842 button.colab-df-convert');\n",
              "      buttonEl.style.display =\n",
              "        google.colab.kernel.accessAllowed ? 'block' : 'none';\n",
              "\n",
              "      async function convertToInteractive(key) {\n",
              "        const element = document.querySelector('#df-d6af4d1d-eb51-451a-9480-751075216842');\n",
              "        const dataTable =\n",
              "          await google.colab.kernel.invokeFunction('convertToInteractive',\n",
              "                                                    [key], {});\n",
              "        if (!dataTable) return;\n",
              "\n",
              "        const docLinkHtml = 'Like what you see? Visit the ' +\n",
              "          '<a target=\"_blank\" href=https://colab.research.google.com/notebooks/data_table.ipynb>data table notebook</a>'\n",
              "          + ' to learn more about interactive tables.';\n",
              "        element.innerHTML = '';\n",
              "        dataTable['output_type'] = 'display_data';\n",
              "        await google.colab.output.renderOutput(dataTable, element);\n",
              "        const docLink = document.createElement('div');\n",
              "        docLink.innerHTML = docLinkHtml;\n",
              "        element.appendChild(docLink);\n",
              "      }\n",
              "    </script>\n",
              "  </div>\n",
              "\n",
              "\n",
              "<div id=\"df-2a76ee41-99b3-43d2-a660-cec31474cf5b\">\n",
              "  <button class=\"colab-df-quickchart\" onclick=\"quickchart('df-2a76ee41-99b3-43d2-a660-cec31474cf5b')\"\n",
              "            title=\"Suggest charts\"\n",
              "            style=\"display:none;\">\n",
              "\n",
              "<svg xmlns=\"http://www.w3.org/2000/svg\" height=\"24px\"viewBox=\"0 0 24 24\"\n",
              "     width=\"24px\">\n",
              "    <g>\n",
              "        <path d=\"M19 3H5c-1.1 0-2 .9-2 2v14c0 1.1.9 2 2 2h14c1.1 0 2-.9 2-2V5c0-1.1-.9-2-2-2zM9 17H7v-7h2v7zm4 0h-2V7h2v10zm4 0h-2v-4h2v4z\"/>\n",
              "    </g>\n",
              "</svg>\n",
              "  </button>\n",
              "\n",
              "<style>\n",
              "  .colab-df-quickchart {\n",
              "      --bg-color: #E8F0FE;\n",
              "      --fill-color: #1967D2;\n",
              "      --hover-bg-color: #E2EBFA;\n",
              "      --hover-fill-color: #174EA6;\n",
              "      --disabled-fill-color: #AAA;\n",
              "      --disabled-bg-color: #DDD;\n",
              "  }\n",
              "\n",
              "  [theme=dark] .colab-df-quickchart {\n",
              "      --bg-color: #3B4455;\n",
              "      --fill-color: #D2E3FC;\n",
              "      --hover-bg-color: #434B5C;\n",
              "      --hover-fill-color: #FFFFFF;\n",
              "      --disabled-bg-color: #3B4455;\n",
              "      --disabled-fill-color: #666;\n",
              "  }\n",
              "\n",
              "  .colab-df-quickchart {\n",
              "    background-color: var(--bg-color);\n",
              "    border: none;\n",
              "    border-radius: 50%;\n",
              "    cursor: pointer;\n",
              "    display: none;\n",
              "    fill: var(--fill-color);\n",
              "    height: 32px;\n",
              "    padding: 0;\n",
              "    width: 32px;\n",
              "  }\n",
              "\n",
              "  .colab-df-quickchart:hover {\n",
              "    background-color: var(--hover-bg-color);\n",
              "    box-shadow: 0 1px 2px rgba(60, 64, 67, 0.3), 0 1px 3px 1px rgba(60, 64, 67, 0.15);\n",
              "    fill: var(--button-hover-fill-color);\n",
              "  }\n",
              "\n",
              "  .colab-df-quickchart-complete:disabled,\n",
              "  .colab-df-quickchart-complete:disabled:hover {\n",
              "    background-color: var(--disabled-bg-color);\n",
              "    fill: var(--disabled-fill-color);\n",
              "    box-shadow: none;\n",
              "  }\n",
              "\n",
              "  .colab-df-spinner {\n",
              "    border: 2px solid var(--fill-color);\n",
              "    border-color: transparent;\n",
              "    border-bottom-color: var(--fill-color);\n",
              "    animation:\n",
              "      spin 1s steps(1) infinite;\n",
              "  }\n",
              "\n",
              "  @keyframes spin {\n",
              "    0% {\n",
              "      border-color: transparent;\n",
              "      border-bottom-color: var(--fill-color);\n",
              "      border-left-color: var(--fill-color);\n",
              "    }\n",
              "    20% {\n",
              "      border-color: transparent;\n",
              "      border-left-color: var(--fill-color);\n",
              "      border-top-color: var(--fill-color);\n",
              "    }\n",
              "    30% {\n",
              "      border-color: transparent;\n",
              "      border-left-color: var(--fill-color);\n",
              "      border-top-color: var(--fill-color);\n",
              "      border-right-color: var(--fill-color);\n",
              "    }\n",
              "    40% {\n",
              "      border-color: transparent;\n",
              "      border-right-color: var(--fill-color);\n",
              "      border-top-color: var(--fill-color);\n",
              "    }\n",
              "    60% {\n",
              "      border-color: transparent;\n",
              "      border-right-color: var(--fill-color);\n",
              "    }\n",
              "    80% {\n",
              "      border-color: transparent;\n",
              "      border-right-color: var(--fill-color);\n",
              "      border-bottom-color: var(--fill-color);\n",
              "    }\n",
              "    90% {\n",
              "      border-color: transparent;\n",
              "      border-bottom-color: var(--fill-color);\n",
              "    }\n",
              "  }\n",
              "</style>\n",
              "\n",
              "  <script>\n",
              "    async function quickchart(key) {\n",
              "      const quickchartButtonEl =\n",
              "        document.querySelector('#' + key + ' button');\n",
              "      quickchartButtonEl.disabled = true;  // To prevent multiple clicks.\n",
              "      quickchartButtonEl.classList.add('colab-df-spinner');\n",
              "      try {\n",
              "        const charts = await google.colab.kernel.invokeFunction(\n",
              "            'suggestCharts', [key], {});\n",
              "      } catch (error) {\n",
              "        console.error('Error during call to suggestCharts:', error);\n",
              "      }\n",
              "      quickchartButtonEl.classList.remove('colab-df-spinner');\n",
              "      quickchartButtonEl.classList.add('colab-df-quickchart-complete');\n",
              "    }\n",
              "    (() => {\n",
              "      let quickchartButtonEl =\n",
              "        document.querySelector('#df-2a76ee41-99b3-43d2-a660-cec31474cf5b button');\n",
              "      quickchartButtonEl.style.display =\n",
              "        google.colab.kernel.accessAllowed ? 'block' : 'none';\n",
              "    })();\n",
              "  </script>\n",
              "</div>\n",
              "    </div>\n",
              "  </div>\n"
            ]
          },
          "metadata": {},
          "execution_count": 4
        }
      ]
    },
    {
      "cell_type": "code",
      "source": [
        "train.shape"
      ],
      "metadata": {
        "colab": {
          "base_uri": "https://localhost:8080/"
        },
        "id": "JaBHz33rDOE8",
        "outputId": "4acff8e3-f712-4839-f700-dcc33d80d05b"
      },
      "execution_count": null,
      "outputs": [
        {
          "output_type": "execute_result",
          "data": {
            "text/plain": [
              "(1920, 3)"
            ]
          },
          "metadata": {},
          "execution_count": 5
        }
      ]
    },
    {
      "cell_type": "code",
      "source": [
        "train['label'].unique()"
      ],
      "metadata": {
        "colab": {
          "base_uri": "https://localhost:8080/"
        },
        "id": "2bu0cnUpBqZD",
        "outputId": "50e9fc88-29f2-416e-d624-edd0c4d4519e"
      },
      "execution_count": null,
      "outputs": [
        {
          "output_type": "execute_result",
          "data": {
            "text/plain": [
              "array([1, 0])"
            ]
          },
          "metadata": {},
          "execution_count": 6
        }
      ]
    },
    {
      "cell_type": "markdown",
      "source": [
        "#Preprocessing Data"
      ],
      "metadata": {
        "id": "NqG0Zd5EzZUZ"
      }
    },
    {
      "cell_type": "code",
      "source": [
        "nltk.download('stopwords')"
      ],
      "metadata": {
        "colab": {
          "base_uri": "https://localhost:8080/"
        },
        "id": "wAyqPu-SB5Vz",
        "outputId": "5f1ca1ce-f9c3-4127-8c25-4b279459e048"
      },
      "execution_count": null,
      "outputs": [
        {
          "output_type": "stream",
          "name": "stderr",
          "text": [
            "[nltk_data] Downloading package stopwords to /root/nltk_data...\n",
            "[nltk_data]   Unzipping corpora/stopwords.zip.\n"
          ]
        },
        {
          "output_type": "execute_result",
          "data": {
            "text/plain": [
              "True"
            ]
          },
          "metadata": {},
          "execution_count": 7
        }
      ]
    },
    {
      "cell_type": "code",
      "source": [
        "\n",
        "def split_into_words(text):\n",
        "    words = text.split()\n",
        "    return words\n",
        "\n",
        "def remove_punctuation(words):\n",
        "    re_punc = re.compile('[%s]' % re.escape(string.punctuation))\n",
        "    stripped = [re_punc.sub(' ', w) for w in words]\n",
        "    return stripped\n",
        "\n",
        "def remove_stopwords(words):\n",
        "    stop_words = set(stopwords.words('arabic'))\n",
        "    stop_words = [word for word in stop_words if word not in ['لا', 'ولا']]\n",
        "    words = [w for w in words if not w in stop_words]\n",
        "    return words\n",
        "\n",
        "def to_sentence(words):\n",
        "    return ' '.join(words)\n",
        "\n",
        "def denoise_text(text):\n",
        "    words = split_into_words(text)\n",
        "    words = remove_punctuation(words)\n",
        "    words = remove_stopwords(words)\n",
        "    return to_sentence(words)\n"
      ],
      "metadata": {
        "id": "AygVm7iBBshE"
      },
      "execution_count": null,
      "outputs": []
    },
    {
      "cell_type": "code",
      "source": [
        "train['cleaned_text'] = train['comment'].apply(denoise_text)\n",
        "train['cleaned_text']=train.cleaned_text.str.replace('\\n|#','')\n",
        "train.head()"
      ],
      "metadata": {
        "colab": {
          "base_uri": "https://localhost:8080/",
          "height": 241
        },
        "id": "Uewt7aMTBv1O",
        "outputId": "90b198eb-ca75-4897-cc44-e91ce4fa195a"
      },
      "execution_count": null,
      "outputs": [
        {
          "output_type": "stream",
          "name": "stderr",
          "text": [
            "<ipython-input-10-b4b42714aff1>:2: FutureWarning: The default value of regex will change from True to False in a future version.\n",
            "  train['cleaned_text']=train.cleaned_text.str.replace('\\n|#','')\n"
          ]
        },
        {
          "output_type": "execute_result",
          "data": {
            "text/plain": [
              "   ID                                            comment  label  \\\n",
              "0   1  انا اوصي من هذا المنبر الكل للتوجه الى مراكز ا...      1   \n",
              "1   2  \\nهناك الكثير لا يفهم المقصود كورونا ليست صعبة...      1   \n",
              "2   3  الحمد لله ارقام مقبولة مقارنة بدول المنطقة لول...      1   \n",
              "3   4  انا شخصيا أؤيد ما فرضته السلطات من ضرورة الإدل...      1   \n",
              "4   5  \\nنفس الشئ في مدينة برشيد مراكز التلقيح مغلقة ...      1   \n",
              "\n",
              "                                        cleaned_text  \n",
              "0  انا اوصي المنبر الكل للتوجه الى مراكز التلقيح ...  \n",
              "1  الكثير لا يفهم المقصود كورونا صعبة الشباب لكنه...  \n",
              "2  الحمد لله ارقام مقبولة مقارنة بدول المنطقة ظهو...  \n",
              "3  انا شخصيا أؤيد فرضته السلطات ضرورة الإدلاء بجو...  \n",
              "4  الشئ مدينة برشيد مراكز التلقيح مغلقة غاية الاث...  "
            ],
            "text/html": [
              "\n",
              "  <div id=\"df-a81e892f-9ac2-43af-bd9d-c7160735cd6e\" class=\"colab-df-container\">\n",
              "    <div>\n",
              "<style scoped>\n",
              "    .dataframe tbody tr th:only-of-type {\n",
              "        vertical-align: middle;\n",
              "    }\n",
              "\n",
              "    .dataframe tbody tr th {\n",
              "        vertical-align: top;\n",
              "    }\n",
              "\n",
              "    .dataframe thead th {\n",
              "        text-align: right;\n",
              "    }\n",
              "</style>\n",
              "<table border=\"1\" class=\"dataframe\">\n",
              "  <thead>\n",
              "    <tr style=\"text-align: right;\">\n",
              "      <th></th>\n",
              "      <th>ID</th>\n",
              "      <th>comment</th>\n",
              "      <th>label</th>\n",
              "      <th>cleaned_text</th>\n",
              "    </tr>\n",
              "  </thead>\n",
              "  <tbody>\n",
              "    <tr>\n",
              "      <th>0</th>\n",
              "      <td>1</td>\n",
              "      <td>انا اوصي من هذا المنبر الكل للتوجه الى مراكز ا...</td>\n",
              "      <td>1</td>\n",
              "      <td>انا اوصي المنبر الكل للتوجه الى مراكز التلقيح ...</td>\n",
              "    </tr>\n",
              "    <tr>\n",
              "      <th>1</th>\n",
              "      <td>2</td>\n",
              "      <td>\\nهناك الكثير لا يفهم المقصود كورونا ليست صعبة...</td>\n",
              "      <td>1</td>\n",
              "      <td>الكثير لا يفهم المقصود كورونا صعبة الشباب لكنه...</td>\n",
              "    </tr>\n",
              "    <tr>\n",
              "      <th>2</th>\n",
              "      <td>3</td>\n",
              "      <td>الحمد لله ارقام مقبولة مقارنة بدول المنطقة لول...</td>\n",
              "      <td>1</td>\n",
              "      <td>الحمد لله ارقام مقبولة مقارنة بدول المنطقة ظهو...</td>\n",
              "    </tr>\n",
              "    <tr>\n",
              "      <th>3</th>\n",
              "      <td>4</td>\n",
              "      <td>انا شخصيا أؤيد ما فرضته السلطات من ضرورة الإدل...</td>\n",
              "      <td>1</td>\n",
              "      <td>انا شخصيا أؤيد فرضته السلطات ضرورة الإدلاء بجو...</td>\n",
              "    </tr>\n",
              "    <tr>\n",
              "      <th>4</th>\n",
              "      <td>5</td>\n",
              "      <td>\\nنفس الشئ في مدينة برشيد مراكز التلقيح مغلقة ...</td>\n",
              "      <td>1</td>\n",
              "      <td>الشئ مدينة برشيد مراكز التلقيح مغلقة غاية الاث...</td>\n",
              "    </tr>\n",
              "  </tbody>\n",
              "</table>\n",
              "</div>\n",
              "    <div class=\"colab-df-buttons\">\n",
              "\n",
              "  <div class=\"colab-df-container\">\n",
              "    <button class=\"colab-df-convert\" onclick=\"convertToInteractive('df-a81e892f-9ac2-43af-bd9d-c7160735cd6e')\"\n",
              "            title=\"Convert this dataframe to an interactive table.\"\n",
              "            style=\"display:none;\">\n",
              "\n",
              "  <svg xmlns=\"http://www.w3.org/2000/svg\" height=\"24px\" viewBox=\"0 -960 960 960\">\n",
              "    <path d=\"M120-120v-720h720v720H120Zm60-500h600v-160H180v160Zm220 220h160v-160H400v160Zm0 220h160v-160H400v160ZM180-400h160v-160H180v160Zm440 0h160v-160H620v160ZM180-180h160v-160H180v160Zm440 0h160v-160H620v160Z\"/>\n",
              "  </svg>\n",
              "    </button>\n",
              "\n",
              "  <style>\n",
              "    .colab-df-container {\n",
              "      display:flex;\n",
              "      gap: 12px;\n",
              "    }\n",
              "\n",
              "    .colab-df-convert {\n",
              "      background-color: #E8F0FE;\n",
              "      border: none;\n",
              "      border-radius: 50%;\n",
              "      cursor: pointer;\n",
              "      display: none;\n",
              "      fill: #1967D2;\n",
              "      height: 32px;\n",
              "      padding: 0 0 0 0;\n",
              "      width: 32px;\n",
              "    }\n",
              "\n",
              "    .colab-df-convert:hover {\n",
              "      background-color: #E2EBFA;\n",
              "      box-shadow: 0px 1px 2px rgba(60, 64, 67, 0.3), 0px 1px 3px 1px rgba(60, 64, 67, 0.15);\n",
              "      fill: #174EA6;\n",
              "    }\n",
              "\n",
              "    .colab-df-buttons div {\n",
              "      margin-bottom: 4px;\n",
              "    }\n",
              "\n",
              "    [theme=dark] .colab-df-convert {\n",
              "      background-color: #3B4455;\n",
              "      fill: #D2E3FC;\n",
              "    }\n",
              "\n",
              "    [theme=dark] .colab-df-convert:hover {\n",
              "      background-color: #434B5C;\n",
              "      box-shadow: 0px 1px 3px 1px rgba(0, 0, 0, 0.15);\n",
              "      filter: drop-shadow(0px 1px 2px rgba(0, 0, 0, 0.3));\n",
              "      fill: #FFFFFF;\n",
              "    }\n",
              "  </style>\n",
              "\n",
              "    <script>\n",
              "      const buttonEl =\n",
              "        document.querySelector('#df-a81e892f-9ac2-43af-bd9d-c7160735cd6e button.colab-df-convert');\n",
              "      buttonEl.style.display =\n",
              "        google.colab.kernel.accessAllowed ? 'block' : 'none';\n",
              "\n",
              "      async function convertToInteractive(key) {\n",
              "        const element = document.querySelector('#df-a81e892f-9ac2-43af-bd9d-c7160735cd6e');\n",
              "        const dataTable =\n",
              "          await google.colab.kernel.invokeFunction('convertToInteractive',\n",
              "                                                    [key], {});\n",
              "        if (!dataTable) return;\n",
              "\n",
              "        const docLinkHtml = 'Like what you see? Visit the ' +\n",
              "          '<a target=\"_blank\" href=https://colab.research.google.com/notebooks/data_table.ipynb>data table notebook</a>'\n",
              "          + ' to learn more about interactive tables.';\n",
              "        element.innerHTML = '';\n",
              "        dataTable['output_type'] = 'display_data';\n",
              "        await google.colab.output.renderOutput(dataTable, element);\n",
              "        const docLink = document.createElement('div');\n",
              "        docLink.innerHTML = docLinkHtml;\n",
              "        element.appendChild(docLink);\n",
              "      }\n",
              "    </script>\n",
              "  </div>\n",
              "\n",
              "\n",
              "<div id=\"df-055ece9e-fff5-4b1b-a4e3-8865fa1693bf\">\n",
              "  <button class=\"colab-df-quickchart\" onclick=\"quickchart('df-055ece9e-fff5-4b1b-a4e3-8865fa1693bf')\"\n",
              "            title=\"Suggest charts\"\n",
              "            style=\"display:none;\">\n",
              "\n",
              "<svg xmlns=\"http://www.w3.org/2000/svg\" height=\"24px\"viewBox=\"0 0 24 24\"\n",
              "     width=\"24px\">\n",
              "    <g>\n",
              "        <path d=\"M19 3H5c-1.1 0-2 .9-2 2v14c0 1.1.9 2 2 2h14c1.1 0 2-.9 2-2V5c0-1.1-.9-2-2-2zM9 17H7v-7h2v7zm4 0h-2V7h2v10zm4 0h-2v-4h2v4z\"/>\n",
              "    </g>\n",
              "</svg>\n",
              "  </button>\n",
              "\n",
              "<style>\n",
              "  .colab-df-quickchart {\n",
              "      --bg-color: #E8F0FE;\n",
              "      --fill-color: #1967D2;\n",
              "      --hover-bg-color: #E2EBFA;\n",
              "      --hover-fill-color: #174EA6;\n",
              "      --disabled-fill-color: #AAA;\n",
              "      --disabled-bg-color: #DDD;\n",
              "  }\n",
              "\n",
              "  [theme=dark] .colab-df-quickchart {\n",
              "      --bg-color: #3B4455;\n",
              "      --fill-color: #D2E3FC;\n",
              "      --hover-bg-color: #434B5C;\n",
              "      --hover-fill-color: #FFFFFF;\n",
              "      --disabled-bg-color: #3B4455;\n",
              "      --disabled-fill-color: #666;\n",
              "  }\n",
              "\n",
              "  .colab-df-quickchart {\n",
              "    background-color: var(--bg-color);\n",
              "    border: none;\n",
              "    border-radius: 50%;\n",
              "    cursor: pointer;\n",
              "    display: none;\n",
              "    fill: var(--fill-color);\n",
              "    height: 32px;\n",
              "    padding: 0;\n",
              "    width: 32px;\n",
              "  }\n",
              "\n",
              "  .colab-df-quickchart:hover {\n",
              "    background-color: var(--hover-bg-color);\n",
              "    box-shadow: 0 1px 2px rgba(60, 64, 67, 0.3), 0 1px 3px 1px rgba(60, 64, 67, 0.15);\n",
              "    fill: var(--button-hover-fill-color);\n",
              "  }\n",
              "\n",
              "  .colab-df-quickchart-complete:disabled,\n",
              "  .colab-df-quickchart-complete:disabled:hover {\n",
              "    background-color: var(--disabled-bg-color);\n",
              "    fill: var(--disabled-fill-color);\n",
              "    box-shadow: none;\n",
              "  }\n",
              "\n",
              "  .colab-df-spinner {\n",
              "    border: 2px solid var(--fill-color);\n",
              "    border-color: transparent;\n",
              "    border-bottom-color: var(--fill-color);\n",
              "    animation:\n",
              "      spin 1s steps(1) infinite;\n",
              "  }\n",
              "\n",
              "  @keyframes spin {\n",
              "    0% {\n",
              "      border-color: transparent;\n",
              "      border-bottom-color: var(--fill-color);\n",
              "      border-left-color: var(--fill-color);\n",
              "    }\n",
              "    20% {\n",
              "      border-color: transparent;\n",
              "      border-left-color: var(--fill-color);\n",
              "      border-top-color: var(--fill-color);\n",
              "    }\n",
              "    30% {\n",
              "      border-color: transparent;\n",
              "      border-left-color: var(--fill-color);\n",
              "      border-top-color: var(--fill-color);\n",
              "      border-right-color: var(--fill-color);\n",
              "    }\n",
              "    40% {\n",
              "      border-color: transparent;\n",
              "      border-right-color: var(--fill-color);\n",
              "      border-top-color: var(--fill-color);\n",
              "    }\n",
              "    60% {\n",
              "      border-color: transparent;\n",
              "      border-right-color: var(--fill-color);\n",
              "    }\n",
              "    80% {\n",
              "      border-color: transparent;\n",
              "      border-right-color: var(--fill-color);\n",
              "      border-bottom-color: var(--fill-color);\n",
              "    }\n",
              "    90% {\n",
              "      border-color: transparent;\n",
              "      border-bottom-color: var(--fill-color);\n",
              "    }\n",
              "  }\n",
              "</style>\n",
              "\n",
              "  <script>\n",
              "    async function quickchart(key) {\n",
              "      const quickchartButtonEl =\n",
              "        document.querySelector('#' + key + ' button');\n",
              "      quickchartButtonEl.disabled = true;  // To prevent multiple clicks.\n",
              "      quickchartButtonEl.classList.add('colab-df-spinner');\n",
              "      try {\n",
              "        const charts = await google.colab.kernel.invokeFunction(\n",
              "            'suggestCharts', [key], {});\n",
              "      } catch (error) {\n",
              "        console.error('Error during call to suggestCharts:', error);\n",
              "      }\n",
              "      quickchartButtonEl.classList.remove('colab-df-spinner');\n",
              "      quickchartButtonEl.classList.add('colab-df-quickchart-complete');\n",
              "    }\n",
              "    (() => {\n",
              "      let quickchartButtonEl =\n",
              "        document.querySelector('#df-055ece9e-fff5-4b1b-a4e3-8865fa1693bf button');\n",
              "      quickchartButtonEl.style.display =\n",
              "        google.colab.kernel.accessAllowed ? 'block' : 'none';\n",
              "    })();\n",
              "  </script>\n",
              "</div>\n",
              "    </div>\n",
              "  </div>\n"
            ]
          },
          "metadata": {},
          "execution_count": 10
        }
      ]
    },
    {
      "cell_type": "code",
      "source": [
        "print(train['comment'][1])\n",
        "print(train['cleaned_text'][1])\n",
        "\n",
        "X_data = train['cleaned_text']\n",
        "y_data = np.array(train['label'])"
      ],
      "metadata": {
        "colab": {
          "base_uri": "https://localhost:8080/"
        },
        "id": "nRfz_g01Bxqy",
        "outputId": "2bed29cd-f8c6-437b-9769-bb8c156a30d6"
      },
      "execution_count": null,
      "outputs": [
        {
          "output_type": "stream",
          "name": "stdout",
          "text": [
            "\n",
            "هناك الكثير لا يفهم المقصود كورونا ليست صعبة على الشباب لكنها صعبة على اصحاب مرض مزمن كالسكري …. لهذا الدولة اختارت ان تنقد امهاتنا و ابائنا و جميع مرضى السكري و من بعد ذلك قام قبل سيعم الجميع هو في الحقيقة عندما يتم التلقيح و يتم محاصرة الفيروس بالتلقيح ينتهي المشكل قبل أن يعم الفيروس كل الشرائح لهذا نتمنى ان تسرع الدولة في مخططها هذا لما له من تأثير على محاربة الوباء في اقرب وقت ممكن نتمنى من الله. التوفيق لكل من يساهم من بعيد او قريب على انجاح هذه المهمة و الشكر كذلك لصاحب الجلالة الذي لا يبخل في ان يكون هو السابق لمثل هذه المبادرة التي ستعود عليه بالصحة و العافية و تحية للشعب المغربي من طنجة إلى الݣرݣرات\n",
            "\n",
            "الكثير لا يفهم المقصود كورونا صعبة الشباب لكنها صعبة اصحاب مرض مزمن كالسكري …  لهذا الدولة اختارت ان تنقد امهاتنا ابائنا مرضى السكري سيعم الجميع الحقيقة عندما يتم التلقيح يتم محاصرة الفيروس بالتلقيح ينتهي المشكل يعم الفيروس الشرائح لهذا نتمنى ان تسرع الدولة مخططها تأثير محاربة الوباء اقرب وقت ممكن نتمنى الله  التوفيق لكل يساهم بعيد او قريب انجاح المهمة الشكر لصاحب الجلالة لا يبخل ان يكون السابق لمثل المبادرة ستعود بالصحة العافية تحية للشعب المغربي طنجة الݣرݣرات\n"
          ]
        }
      ]
    },
    {
      "cell_type": "code",
      "source": [
        "from sklearn.model_selection import train_test_split\n",
        "\n",
        "X_train, X_test, y_train, y_test = train_test_split( X_data, y_data, test_size=0.1)"
      ],
      "metadata": {
        "id": "7TeIhfyP0VzB"
      },
      "execution_count": null,
      "outputs": []
    },
    {
      "cell_type": "markdown",
      "source": [
        "# ANN with Embedding"
      ],
      "metadata": {
        "id": "9oO6aroW45ai"
      }
    },
    {
      "cell_type": "code",
      "source": [
        "tokenizer = Tokenizer(num_words=10000, oov_token = '<OOV>')\n",
        "tokenizer.fit_on_texts(X_data)\n",
        "word_index = tokenizer.word_index\n",
        "VOCAB_SIZE = len(word_index)+1\n",
        "VOCAB_SIZE"
      ],
      "metadata": {
        "colab": {
          "base_uri": "https://localhost:8080/"
        },
        "id": "H9ukg5OSB-li",
        "outputId": "815b97aa-afd9-4000-d282-db4cc53b124e"
      },
      "execution_count": null,
      "outputs": [
        {
          "output_type": "execute_result",
          "data": {
            "text/plain": [
              "19552"
            ]
          },
          "metadata": {},
          "execution_count": 13
        }
      ]
    },
    {
      "cell_type": "code",
      "source": [
        "#maxlen = max([len(x) for x in X_train])\n",
        "maxlen = 128"
      ],
      "metadata": {
        "id": "HD736t273Ud1"
      },
      "execution_count": null,
      "outputs": []
    },
    {
      "cell_type": "code",
      "source": [
        "data_sequences = tokenizer.texts_to_sequences(X_data)\n",
        "data_padded_sequences = pad_sequences(data_sequences,maxlen=maxlen,padding='post',truncating='post')\n"
      ],
      "metadata": {
        "id": "kBGVOiUkE5K6"
      },
      "execution_count": null,
      "outputs": []
    },
    {
      "cell_type": "code",
      "source": [
        "train_sequences = tokenizer.texts_to_sequences(X_train)\n",
        "train_padded_sequences = pad_sequences(train_sequences,maxlen=maxlen,padding='post',truncating='post')\n",
        "\n",
        "test_sequences = tokenizer.texts_to_sequences(X_test)\n",
        "test_padded_sequences = pad_sequences(test_sequences,maxlen=maxlen,padding='post',truncating='post')"
      ],
      "metadata": {
        "id": "JQp41yZUCAta"
      },
      "execution_count": null,
      "outputs": []
    },
    {
      "cell_type": "code",
      "source": [
        "len(train_padded_sequences)"
      ],
      "metadata": {
        "colab": {
          "base_uri": "https://localhost:8080/"
        },
        "id": "3VeyvjmajBcE",
        "outputId": "50fb472f-ea3b-403f-a26a-edf5e54554a9"
      },
      "execution_count": null,
      "outputs": [
        {
          "output_type": "execute_result",
          "data": {
            "text/plain": [
              "1728"
            ]
          },
          "metadata": {},
          "execution_count": 17
        }
      ]
    },
    {
      "cell_type": "code",
      "source": [
        "embedding_dim = 200"
      ],
      "metadata": {
        "id": "lOyJ1o9146ro"
      },
      "execution_count": null,
      "outputs": []
    },
    {
      "cell_type": "code",
      "source": [
        "# Create a Sequential model\n",
        "model = tf.keras.Sequential()\n",
        "\n",
        "# Add an Embedding layer\n",
        "model.add(tf.keras.layers.Embedding(input_dim=VOCAB_SIZE, output_dim=embedding_dim, input_length=maxlen))  # max_len is the maximum sequence length\n",
        "model.add(tf.keras.layers.Flatten())\n",
        "model.add(tf.keras.layers.Dense(64, activation='relu'))\n",
        "model.add(tf.keras.layers.Dropout(0.3))\n",
        "model.add(tf.keras.layers.Dense(1, activation='sigmoid'))\n",
        "\n",
        "# Compile the model\n",
        "model.compile(optimizer='adam', loss='binary_crossentropy', metrics=['accuracy'])\n",
        "\n",
        "# Print the model summary\n",
        "model.summary()"
      ],
      "metadata": {
        "colab": {
          "base_uri": "https://localhost:8080/"
        },
        "id": "STcAbyL1IqRY",
        "outputId": "e3a75b7b-3561-467d-d7ff-1fa8abe2a983"
      },
      "execution_count": null,
      "outputs": [
        {
          "output_type": "stream",
          "name": "stdout",
          "text": [
            "Model: \"sequential\"\n",
            "_________________________________________________________________\n",
            " Layer (type)                Output Shape              Param #   \n",
            "=================================================================\n",
            " embedding (Embedding)       (None, 128, 200)          3910400   \n",
            "                                                                 \n",
            " flatten (Flatten)           (None, 25600)             0         \n",
            "                                                                 \n",
            " dense (Dense)               (None, 64)                1638464   \n",
            "                                                                 \n",
            " dropout (Dropout)           (None, 64)                0         \n",
            "                                                                 \n",
            " dense_1 (Dense)             (None, 1)                 65        \n",
            "                                                                 \n",
            "=================================================================\n",
            "Total params: 5548929 (21.17 MB)\n",
            "Trainable params: 5548929 (21.17 MB)\n",
            "Non-trainable params: 0 (0.00 Byte)\n",
            "_________________________________________________________________\n"
          ]
        }
      ]
    },
    {
      "cell_type": "code",
      "source": [
        "from tensorflow.keras.callbacks import ModelCheckpoint\n",
        "\n",
        "checkpointer = ModelCheckpoint('/content/drive/My Drive/Models/ANN_with_Embedding/ANN_Model200_weights_callback.keras', verbose=1, save_best_only=True, save_weights_only=True)\n",
        "history = model.fit(train_padded_sequences, y_train, validation_data = (test_padded_sequences, y_test), epochs=20, callbacks=[checkpointer])\n"
      ],
      "metadata": {
        "colab": {
          "base_uri": "https://localhost:8080/"
        },
        "id": "xvRiP9kBI9Db",
        "outputId": "5085bef4-e43d-4274-f8c5-f5e3f8a22948"
      },
      "execution_count": null,
      "outputs": [
        {
          "output_type": "stream",
          "name": "stdout",
          "text": [
            "Epoch 1/20\n",
            "54/54 [==============================] - ETA: 0s - loss: 0.3087 - accuracy: 0.8906\n",
            "Epoch 1: val_loss improved from inf to 0.32517, saving model to /content/drive/My Drive/Models/ANN_with_Embedding/ANN_Model200_weights_callback.keras\n",
            "54/54 [==============================] - 8s 150ms/step - loss: 0.3087 - accuracy: 0.8906 - val_loss: 0.3252 - val_accuracy: 0.8542\n",
            "Epoch 2/20\n",
            "54/54 [==============================] - ETA: 0s - loss: 0.1181 - accuracy: 0.9635\n",
            "Epoch 2: val_loss did not improve from 0.32517\n",
            "54/54 [==============================] - 7s 133ms/step - loss: 0.1181 - accuracy: 0.9635 - val_loss: 0.3385 - val_accuracy: 0.8438\n",
            "Epoch 3/20\n",
            "53/54 [============================>.] - ETA: 0s - loss: 0.0368 - accuracy: 0.9941\n",
            "Epoch 3: val_loss did not improve from 0.32517\n",
            "54/54 [==============================] - 5s 91ms/step - loss: 0.0363 - accuracy: 0.9942 - val_loss: 0.3388 - val_accuracy: 0.8438\n",
            "Epoch 4/20\n",
            "52/54 [===========================>..] - ETA: 0s - loss: 0.0144 - accuracy: 0.9988\n",
            "Epoch 4: val_loss did not improve from 0.32517\n",
            "54/54 [==============================] - 3s 53ms/step - loss: 0.0142 - accuracy: 0.9988 - val_loss: 0.3984 - val_accuracy: 0.8490\n",
            "Epoch 5/20\n",
            "53/54 [============================>.] - ETA: 0s - loss: 0.0086 - accuracy: 0.9982\n",
            "Epoch 5: val_loss did not improve from 0.32517\n",
            "54/54 [==============================] - 5s 83ms/step - loss: 0.0086 - accuracy: 0.9983 - val_loss: 0.3892 - val_accuracy: 0.8542\n",
            "Epoch 6/20\n",
            "52/54 [===========================>..] - ETA: 0s - loss: 0.0038 - accuracy: 1.0000\n",
            "Epoch 6: val_loss did not improve from 0.32517\n",
            "54/54 [==============================] - 3s 61ms/step - loss: 0.0037 - accuracy: 1.0000 - val_loss: 0.4132 - val_accuracy: 0.8542\n",
            "Epoch 7/20\n",
            "52/54 [===========================>..] - ETA: 0s - loss: 0.0022 - accuracy: 1.0000\n",
            "Epoch 7: val_loss did not improve from 0.32517\n",
            "54/54 [==============================] - 2s 47ms/step - loss: 0.0023 - accuracy: 1.0000 - val_loss: 0.4037 - val_accuracy: 0.8490\n",
            "Epoch 8/20\n",
            "49/54 [==========================>...] - ETA: 0s - loss: 0.0014 - accuracy: 1.0000\n",
            "Epoch 8: val_loss did not improve from 0.32517\n",
            "54/54 [==============================] - 3s 59ms/step - loss: 0.0013 - accuracy: 1.0000 - val_loss: 0.4138 - val_accuracy: 0.8490\n",
            "Epoch 9/20\n",
            "52/54 [===========================>..] - ETA: 0s - loss: 0.0010 - accuracy: 1.0000\n",
            "Epoch 9: val_loss did not improve from 0.32517\n",
            "54/54 [==============================] - 2s 38ms/step - loss: 0.0010 - accuracy: 1.0000 - val_loss: 0.4544 - val_accuracy: 0.8438\n",
            "Epoch 10/20\n",
            "52/54 [===========================>..] - ETA: 0s - loss: 7.6381e-04 - accuracy: 1.0000\n",
            "Epoch 10: val_loss did not improve from 0.32517\n",
            "54/54 [==============================] - 2s 31ms/step - loss: 7.5578e-04 - accuracy: 1.0000 - val_loss: 0.4460 - val_accuracy: 0.8542\n",
            "Epoch 11/20\n",
            "54/54 [==============================] - ETA: 0s - loss: 5.9196e-04 - accuracy: 1.0000\n",
            "Epoch 11: val_loss did not improve from 0.32517\n",
            "54/54 [==============================] - 2s 34ms/step - loss: 5.9196e-04 - accuracy: 1.0000 - val_loss: 0.4430 - val_accuracy: 0.8542\n",
            "Epoch 12/20\n",
            "48/54 [=========================>....] - ETA: 0s - loss: 4.9189e-04 - accuracy: 1.0000\n",
            "Epoch 12: val_loss did not improve from 0.32517\n",
            "54/54 [==============================] - 2s 29ms/step - loss: 4.7970e-04 - accuracy: 1.0000 - val_loss: 0.4648 - val_accuracy: 0.8490\n",
            "Epoch 13/20\n",
            "49/54 [==========================>...] - ETA: 0s - loss: 3.1512e-04 - accuracy: 1.0000\n",
            "Epoch 13: val_loss did not improve from 0.32517\n",
            "54/54 [==============================] - 2s 31ms/step - loss: 3.0684e-04 - accuracy: 1.0000 - val_loss: 0.4694 - val_accuracy: 0.8490\n",
            "Epoch 14/20\n",
            "46/54 [========================>.....] - ETA: 0s - loss: 3.7306e-04 - accuracy: 1.0000\n",
            "Epoch 14: val_loss did not improve from 0.32517\n",
            "54/54 [==============================] - 2s 28ms/step - loss: 3.8214e-04 - accuracy: 1.0000 - val_loss: 0.4658 - val_accuracy: 0.8542\n",
            "Epoch 15/20\n",
            "48/54 [=========================>....] - ETA: 0s - loss: 2.4000e-04 - accuracy: 1.0000\n",
            "Epoch 15: val_loss did not improve from 0.32517\n",
            "54/54 [==============================] - 1s 17ms/step - loss: 2.6530e-04 - accuracy: 1.0000 - val_loss: 0.4796 - val_accuracy: 0.8542\n",
            "Epoch 16/20\n",
            "52/54 [===========================>..] - ETA: 0s - loss: 4.4618e-04 - accuracy: 1.0000\n",
            "Epoch 16: val_loss did not improve from 0.32517\n",
            "54/54 [==============================] - 1s 28ms/step - loss: 4.3726e-04 - accuracy: 1.0000 - val_loss: 0.4932 - val_accuracy: 0.8490\n",
            "Epoch 17/20\n",
            "50/54 [==========================>...] - ETA: 0s - loss: 1.6626e-04 - accuracy: 1.0000\n",
            "Epoch 17: val_loss did not improve from 0.32517\n",
            "54/54 [==============================] - 1s 26ms/step - loss: 2.0930e-04 - accuracy: 1.0000 - val_loss: 0.4962 - val_accuracy: 0.8490\n",
            "Epoch 18/20\n",
            "49/54 [==========================>...] - ETA: 0s - loss: 1.9945e-04 - accuracy: 1.0000\n",
            "Epoch 18: val_loss did not improve from 0.32517\n",
            "54/54 [==============================] - 1s 11ms/step - loss: 2.0215e-04 - accuracy: 1.0000 - val_loss: 0.5247 - val_accuracy: 0.8438\n",
            "Epoch 19/20\n",
            "50/54 [==========================>...] - ETA: 0s - loss: 1.9205e-04 - accuracy: 1.0000\n",
            "Epoch 19: val_loss did not improve from 0.32517\n",
            "54/54 [==============================] - 1s 23ms/step - loss: 1.8993e-04 - accuracy: 1.0000 - val_loss: 0.5158 - val_accuracy: 0.8490\n",
            "Epoch 20/20\n",
            "54/54 [==============================] - ETA: 0s - loss: 9.2119e-05 - accuracy: 1.0000\n",
            "Epoch 20: val_loss did not improve from 0.32517\n",
            "54/54 [==============================] - 1s 11ms/step - loss: 9.2119e-05 - accuracy: 1.0000 - val_loss: 0.5172 - val_accuracy: 0.8490\n"
          ]
        }
      ]
    },
    {
      "cell_type": "code",
      "source": [
        "loss, acc = model.evaluate(test_padded_sequences, y_test)\n",
        "print(\"accuracy: {:5.2f}%\".format(100 * acc))"
      ],
      "metadata": {
        "id": "EXn5Rji-MeX4",
        "colab": {
          "base_uri": "https://localhost:8080/"
        },
        "outputId": "fad2f423-df72-43c3-ba34-d776ba4bc17f"
      },
      "execution_count": null,
      "outputs": [
        {
          "output_type": "stream",
          "name": "stdout",
          "text": [
            "6/6 [==============================] - 0s 4ms/step - loss: 0.5172 - accuracy: 0.8490\n",
            "accuracy: 84.90%\n"
          ]
        }
      ]
    },
    {
      "cell_type": "code",
      "source": [
        "model.save_weights('/content/drive/My Drive/Models/ANN_with_Embedding/ANN_Model200_weights.keras')"
      ],
      "metadata": {
        "id": "DMJOhccAplxH"
      },
      "execution_count": null,
      "outputs": []
    },
    {
      "cell_type": "code",
      "source": [],
      "metadata": {
        "id": "lSHrErVrNZSh"
      },
      "execution_count": null,
      "outputs": []
    },
    {
      "cell_type": "markdown",
      "source": [
        "# Loading Model"
      ],
      "metadata": {
        "id": "npj2QrQx21JU"
      }
    },
    {
      "cell_type": "code",
      "source": [
        "embedding_dim = 200\n",
        "\n",
        "# Create a Sequential model\n",
        "model = tf.keras.Sequential()\n",
        "\n",
        "# Add an Embedding layer\n",
        "model.add(tf.keras.layers.Embedding(input_dim=VOCAB_SIZE, output_dim=embedding_dim, input_length=maxlen))  # max_len is the maximum sequence length\n",
        "model.add(tf.keras.layers.Flatten())\n",
        "model.add(tf.keras.layers.Dense(64, activation='relu'))\n",
        "model.add(tf.keras.layers.Dropout(0.3))\n",
        "model.add(tf.keras.layers.Dense(1, activation='sigmoid'))\n",
        "\n",
        "# Compile the model\n",
        "model.compile(optimizer='adam', loss='binary_crossentropy', metrics=['accuracy'])\n",
        "\n",
        "# Print the model summary\n",
        "model.summary()\n"
      ],
      "metadata": {
        "colab": {
          "base_uri": "https://localhost:8080/"
        },
        "id": "UrgQY4kp23HK",
        "outputId": "5c38edf5-9ac6-4cae-a9a1-9682cc5d90ed"
      },
      "execution_count": null,
      "outputs": [
        {
          "output_type": "stream",
          "name": "stdout",
          "text": [
            "Model: \"sequential_1\"\n",
            "_________________________________________________________________\n",
            " Layer (type)                Output Shape              Param #   \n",
            "=================================================================\n",
            " embedding_1 (Embedding)     (None, 128, 200)          3910400   \n",
            "                                                                 \n",
            " flatten_1 (Flatten)         (None, 25600)             0         \n",
            "                                                                 \n",
            " dense_2 (Dense)             (None, 64)                1638464   \n",
            "                                                                 \n",
            " dropout_1 (Dropout)         (None, 64)                0         \n",
            "                                                                 \n",
            " dense_3 (Dense)             (None, 1)                 65        \n",
            "                                                                 \n",
            "=================================================================\n",
            "Total params: 5548929 (21.17 MB)\n",
            "Trainable params: 5548929 (21.17 MB)\n",
            "Non-trainable params: 0 (0.00 Byte)\n",
            "_________________________________________________________________\n"
          ]
        }
      ]
    },
    {
      "cell_type": "code",
      "source": [
        "model.load_weights('/content/drive/My Drive/Models/ANN_with_Embedding/ANN_Model200_weights_callback.keras')\n",
        "\n",
        "loss, acc = model.evaluate(test_padded_sequences, y_test)\n",
        "print(\"accuracy: {:5.2f}%\".format(100 * acc))"
      ],
      "metadata": {
        "colab": {
          "base_uri": "https://localhost:8080/"
        },
        "id": "RWBQd4qu3nSp",
        "outputId": "16583eba-410c-4fff-fad9-b905d1919fe0"
      },
      "execution_count": null,
      "outputs": [
        {
          "output_type": "stream",
          "name": "stdout",
          "text": [
            "6/6 [==============================] - 0s 4ms/step - loss: 0.3252 - accuracy: 0.8542\n",
            "accuracy: 85.42%\n"
          ]
        }
      ]
    },
    {
      "cell_type": "code",
      "source": [],
      "metadata": {
        "id": "1L9DZyajxvHD"
      },
      "execution_count": null,
      "outputs": []
    },
    {
      "cell_type": "markdown",
      "source": [
        "# Submission"
      ],
      "metadata": {
        "id": "8RYCaxeYC8jE"
      }
    },
    {
      "cell_type": "code",
      "source": [
        "test_stage = pd.read_csv('/content/drive/My Drive/Datasets/marocSA/test_stage1.csv')\n",
        "\n",
        "sample_submission = pd.read_csv('/content/drive/My Drive/Datasets/marocSA/sample_submission.csv')"
      ],
      "metadata": {
        "id": "-o6sKNYaDB4a"
      },
      "execution_count": null,
      "outputs": []
    },
    {
      "cell_type": "code",
      "source": [
        "sample_submission.head()"
      ],
      "metadata": {
        "colab": {
          "base_uri": "https://localhost:8080/",
          "height": 206
        },
        "id": "IS1SS6JMDjZ8",
        "outputId": "96ff1fe0-9a70-45e2-def1-68d9c012ca0f"
      },
      "execution_count": null,
      "outputs": [
        {
          "output_type": "execute_result",
          "data": {
            "text/plain": [
              "   ID  label\n",
              "0   1      0\n",
              "1   2      0\n",
              "2   3      0\n",
              "3   4      0\n",
              "4   5      0"
            ],
            "text/html": [
              "\n",
              "  <div id=\"df-d0f2246f-6ef7-460a-8fb4-fdb9fa49dba9\" class=\"colab-df-container\">\n",
              "    <div>\n",
              "<style scoped>\n",
              "    .dataframe tbody tr th:only-of-type {\n",
              "        vertical-align: middle;\n",
              "    }\n",
              "\n",
              "    .dataframe tbody tr th {\n",
              "        vertical-align: top;\n",
              "    }\n",
              "\n",
              "    .dataframe thead th {\n",
              "        text-align: right;\n",
              "    }\n",
              "</style>\n",
              "<table border=\"1\" class=\"dataframe\">\n",
              "  <thead>\n",
              "    <tr style=\"text-align: right;\">\n",
              "      <th></th>\n",
              "      <th>ID</th>\n",
              "      <th>label</th>\n",
              "    </tr>\n",
              "  </thead>\n",
              "  <tbody>\n",
              "    <tr>\n",
              "      <th>0</th>\n",
              "      <td>1</td>\n",
              "      <td>0</td>\n",
              "    </tr>\n",
              "    <tr>\n",
              "      <th>1</th>\n",
              "      <td>2</td>\n",
              "      <td>0</td>\n",
              "    </tr>\n",
              "    <tr>\n",
              "      <th>2</th>\n",
              "      <td>3</td>\n",
              "      <td>0</td>\n",
              "    </tr>\n",
              "    <tr>\n",
              "      <th>3</th>\n",
              "      <td>4</td>\n",
              "      <td>0</td>\n",
              "    </tr>\n",
              "    <tr>\n",
              "      <th>4</th>\n",
              "      <td>5</td>\n",
              "      <td>0</td>\n",
              "    </tr>\n",
              "  </tbody>\n",
              "</table>\n",
              "</div>\n",
              "    <div class=\"colab-df-buttons\">\n",
              "\n",
              "  <div class=\"colab-df-container\">\n",
              "    <button class=\"colab-df-convert\" onclick=\"convertToInteractive('df-d0f2246f-6ef7-460a-8fb4-fdb9fa49dba9')\"\n",
              "            title=\"Convert this dataframe to an interactive table.\"\n",
              "            style=\"display:none;\">\n",
              "\n",
              "  <svg xmlns=\"http://www.w3.org/2000/svg\" height=\"24px\" viewBox=\"0 -960 960 960\">\n",
              "    <path d=\"M120-120v-720h720v720H120Zm60-500h600v-160H180v160Zm220 220h160v-160H400v160Zm0 220h160v-160H400v160ZM180-400h160v-160H180v160Zm440 0h160v-160H620v160ZM180-180h160v-160H180v160Zm440 0h160v-160H620v160Z\"/>\n",
              "  </svg>\n",
              "    </button>\n",
              "\n",
              "  <style>\n",
              "    .colab-df-container {\n",
              "      display:flex;\n",
              "      gap: 12px;\n",
              "    }\n",
              "\n",
              "    .colab-df-convert {\n",
              "      background-color: #E8F0FE;\n",
              "      border: none;\n",
              "      border-radius: 50%;\n",
              "      cursor: pointer;\n",
              "      display: none;\n",
              "      fill: #1967D2;\n",
              "      height: 32px;\n",
              "      padding: 0 0 0 0;\n",
              "      width: 32px;\n",
              "    }\n",
              "\n",
              "    .colab-df-convert:hover {\n",
              "      background-color: #E2EBFA;\n",
              "      box-shadow: 0px 1px 2px rgba(60, 64, 67, 0.3), 0px 1px 3px 1px rgba(60, 64, 67, 0.15);\n",
              "      fill: #174EA6;\n",
              "    }\n",
              "\n",
              "    .colab-df-buttons div {\n",
              "      margin-bottom: 4px;\n",
              "    }\n",
              "\n",
              "    [theme=dark] .colab-df-convert {\n",
              "      background-color: #3B4455;\n",
              "      fill: #D2E3FC;\n",
              "    }\n",
              "\n",
              "    [theme=dark] .colab-df-convert:hover {\n",
              "      background-color: #434B5C;\n",
              "      box-shadow: 0px 1px 3px 1px rgba(0, 0, 0, 0.15);\n",
              "      filter: drop-shadow(0px 1px 2px rgba(0, 0, 0, 0.3));\n",
              "      fill: #FFFFFF;\n",
              "    }\n",
              "  </style>\n",
              "\n",
              "    <script>\n",
              "      const buttonEl =\n",
              "        document.querySelector('#df-d0f2246f-6ef7-460a-8fb4-fdb9fa49dba9 button.colab-df-convert');\n",
              "      buttonEl.style.display =\n",
              "        google.colab.kernel.accessAllowed ? 'block' : 'none';\n",
              "\n",
              "      async function convertToInteractive(key) {\n",
              "        const element = document.querySelector('#df-d0f2246f-6ef7-460a-8fb4-fdb9fa49dba9');\n",
              "        const dataTable =\n",
              "          await google.colab.kernel.invokeFunction('convertToInteractive',\n",
              "                                                    [key], {});\n",
              "        if (!dataTable) return;\n",
              "\n",
              "        const docLinkHtml = 'Like what you see? Visit the ' +\n",
              "          '<a target=\"_blank\" href=https://colab.research.google.com/notebooks/data_table.ipynb>data table notebook</a>'\n",
              "          + ' to learn more about interactive tables.';\n",
              "        element.innerHTML = '';\n",
              "        dataTable['output_type'] = 'display_data';\n",
              "        await google.colab.output.renderOutput(dataTable, element);\n",
              "        const docLink = document.createElement('div');\n",
              "        docLink.innerHTML = docLinkHtml;\n",
              "        element.appendChild(docLink);\n",
              "      }\n",
              "    </script>\n",
              "  </div>\n",
              "\n",
              "\n",
              "<div id=\"df-81c8137e-58f3-409c-8384-d5a285cbef78\">\n",
              "  <button class=\"colab-df-quickchart\" onclick=\"quickchart('df-81c8137e-58f3-409c-8384-d5a285cbef78')\"\n",
              "            title=\"Suggest charts\"\n",
              "            style=\"display:none;\">\n",
              "\n",
              "<svg xmlns=\"http://www.w3.org/2000/svg\" height=\"24px\"viewBox=\"0 0 24 24\"\n",
              "     width=\"24px\">\n",
              "    <g>\n",
              "        <path d=\"M19 3H5c-1.1 0-2 .9-2 2v14c0 1.1.9 2 2 2h14c1.1 0 2-.9 2-2V5c0-1.1-.9-2-2-2zM9 17H7v-7h2v7zm4 0h-2V7h2v10zm4 0h-2v-4h2v4z\"/>\n",
              "    </g>\n",
              "</svg>\n",
              "  </button>\n",
              "\n",
              "<style>\n",
              "  .colab-df-quickchart {\n",
              "      --bg-color: #E8F0FE;\n",
              "      --fill-color: #1967D2;\n",
              "      --hover-bg-color: #E2EBFA;\n",
              "      --hover-fill-color: #174EA6;\n",
              "      --disabled-fill-color: #AAA;\n",
              "      --disabled-bg-color: #DDD;\n",
              "  }\n",
              "\n",
              "  [theme=dark] .colab-df-quickchart {\n",
              "      --bg-color: #3B4455;\n",
              "      --fill-color: #D2E3FC;\n",
              "      --hover-bg-color: #434B5C;\n",
              "      --hover-fill-color: #FFFFFF;\n",
              "      --disabled-bg-color: #3B4455;\n",
              "      --disabled-fill-color: #666;\n",
              "  }\n",
              "\n",
              "  .colab-df-quickchart {\n",
              "    background-color: var(--bg-color);\n",
              "    border: none;\n",
              "    border-radius: 50%;\n",
              "    cursor: pointer;\n",
              "    display: none;\n",
              "    fill: var(--fill-color);\n",
              "    height: 32px;\n",
              "    padding: 0;\n",
              "    width: 32px;\n",
              "  }\n",
              "\n",
              "  .colab-df-quickchart:hover {\n",
              "    background-color: var(--hover-bg-color);\n",
              "    box-shadow: 0 1px 2px rgba(60, 64, 67, 0.3), 0 1px 3px 1px rgba(60, 64, 67, 0.15);\n",
              "    fill: var(--button-hover-fill-color);\n",
              "  }\n",
              "\n",
              "  .colab-df-quickchart-complete:disabled,\n",
              "  .colab-df-quickchart-complete:disabled:hover {\n",
              "    background-color: var(--disabled-bg-color);\n",
              "    fill: var(--disabled-fill-color);\n",
              "    box-shadow: none;\n",
              "  }\n",
              "\n",
              "  .colab-df-spinner {\n",
              "    border: 2px solid var(--fill-color);\n",
              "    border-color: transparent;\n",
              "    border-bottom-color: var(--fill-color);\n",
              "    animation:\n",
              "      spin 1s steps(1) infinite;\n",
              "  }\n",
              "\n",
              "  @keyframes spin {\n",
              "    0% {\n",
              "      border-color: transparent;\n",
              "      border-bottom-color: var(--fill-color);\n",
              "      border-left-color: var(--fill-color);\n",
              "    }\n",
              "    20% {\n",
              "      border-color: transparent;\n",
              "      border-left-color: var(--fill-color);\n",
              "      border-top-color: var(--fill-color);\n",
              "    }\n",
              "    30% {\n",
              "      border-color: transparent;\n",
              "      border-left-color: var(--fill-color);\n",
              "      border-top-color: var(--fill-color);\n",
              "      border-right-color: var(--fill-color);\n",
              "    }\n",
              "    40% {\n",
              "      border-color: transparent;\n",
              "      border-right-color: var(--fill-color);\n",
              "      border-top-color: var(--fill-color);\n",
              "    }\n",
              "    60% {\n",
              "      border-color: transparent;\n",
              "      border-right-color: var(--fill-color);\n",
              "    }\n",
              "    80% {\n",
              "      border-color: transparent;\n",
              "      border-right-color: var(--fill-color);\n",
              "      border-bottom-color: var(--fill-color);\n",
              "    }\n",
              "    90% {\n",
              "      border-color: transparent;\n",
              "      border-bottom-color: var(--fill-color);\n",
              "    }\n",
              "  }\n",
              "</style>\n",
              "\n",
              "  <script>\n",
              "    async function quickchart(key) {\n",
              "      const quickchartButtonEl =\n",
              "        document.querySelector('#' + key + ' button');\n",
              "      quickchartButtonEl.disabled = true;  // To prevent multiple clicks.\n",
              "      quickchartButtonEl.classList.add('colab-df-spinner');\n",
              "      try {\n",
              "        const charts = await google.colab.kernel.invokeFunction(\n",
              "            'suggestCharts', [key], {});\n",
              "      } catch (error) {\n",
              "        console.error('Error during call to suggestCharts:', error);\n",
              "      }\n",
              "      quickchartButtonEl.classList.remove('colab-df-spinner');\n",
              "      quickchartButtonEl.classList.add('colab-df-quickchart-complete');\n",
              "    }\n",
              "    (() => {\n",
              "      let quickchartButtonEl =\n",
              "        document.querySelector('#df-81c8137e-58f3-409c-8384-d5a285cbef78 button');\n",
              "      quickchartButtonEl.style.display =\n",
              "        google.colab.kernel.accessAllowed ? 'block' : 'none';\n",
              "    })();\n",
              "  </script>\n",
              "</div>\n",
              "    </div>\n",
              "  </div>\n"
            ]
          },
          "metadata": {},
          "execution_count": 19
        }
      ]
    },
    {
      "cell_type": "code",
      "source": [
        "test_stage['cleaned_text'] = test_stage['comment'].apply(denoise_text)\n",
        "test_stage['cleaned_text']=test_stage.cleaned_text.str.replace('\\n|#','')\n",
        "submission = test_stage['cleaned_text']\n",
        "\n",
        "submission_sequences = tokenizer.texts_to_sequences(submission)\n",
        "submission_padded_sequences = pad_sequences(submission_sequences,maxlen=maxlen,padding='post',truncating='post')\n",
        "\n",
        "predictions = model.predict(submission_padded_sequences)\n",
        "\n",
        "binary_predictions = (predictions > 0.5).astype(int)\n",
        "flattened_predictions = binary_predictions.flatten()\n",
        "\n",
        "sample_submission['label'] = flattened_predictions\n"
      ],
      "metadata": {
        "colab": {
          "base_uri": "https://localhost:8080/"
        },
        "id": "x0eD4aYlANix",
        "outputId": "ebc431a4-9d62-4837-a350-ab79b8ce3ae9"
      },
      "execution_count": null,
      "outputs": [
        {
          "output_type": "stream",
          "name": "stdout",
          "text": [
            "8/8 [==============================] - 0s 2ms/step\n"
          ]
        },
        {
          "output_type": "stream",
          "name": "stderr",
          "text": [
            "<ipython-input-20-53557b6b1991>:2: FutureWarning: The default value of regex will change from True to False in a future version.\n",
            "  test_stage['cleaned_text']=test_stage.cleaned_text.str.replace('\\n|#','')\n"
          ]
        }
      ]
    },
    {
      "cell_type": "code",
      "source": [
        "sample_submission.to_csv(\"/content/drive/My Drive/Models/Arabic_Bert_Model/submission.csv\", index=False)"
      ],
      "metadata": {
        "id": "XCKF20ybFcmp"
      },
      "execution_count": null,
      "outputs": []
    }
  ]
}