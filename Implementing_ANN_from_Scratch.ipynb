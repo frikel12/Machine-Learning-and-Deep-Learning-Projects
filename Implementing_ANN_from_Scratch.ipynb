{
  "nbformat": 4,
  "nbformat_minor": 0,
  "metadata": {
    "colab": {
      "provenance": [],
      "authorship_tag": "ABX9TyO3tLe7ks/Ov2pOCwPJumUO",
      "include_colab_link": true
    },
    "kernelspec": {
      "name": "python3",
      "display_name": "Python 3"
    },
    "language_info": {
      "name": "python"
    }
  },
  "cells": [
    {
      "cell_type": "markdown",
      "metadata": {
        "id": "view-in-github",
        "colab_type": "text"
      },
      "source": [
        "<a href=\"https://colab.research.google.com/github/frikel12/Machine-Learning-and-Deep-Learningproject/blob/main/Implementing_ANN_from_Scratch.ipynb\" target=\"_parent\"><img src=\"https://colab.research.google.com/assets/colab-badge.svg\" alt=\"Open In Colab\"/></a>"
      ]
    },
    {
      "cell_type": "code",
      "source": [
        "import numpy as np\n",
        "\n",
        "from google.colab import drive\n",
        "\n",
        "drive.mount('/content/drive')\n",
        "\n",
        "path_train='/content/drive/My Drive/Datasets/mnist_train.csv'\n",
        "path_test='/content/drive/My Drive/Datasets/mnist_test.csv'\n",
        "train_file = open(path_train, 'r')\n",
        "test_file = open(path_test, 'r')\n",
        "train_list = train_file.readlines()\n",
        "test_list = test_file.readlines()\n",
        "\n",
        "train_file.close()\n",
        "test_file.close()"
      ],
      "metadata": {
        "colab": {
          "base_uri": "https://localhost:8080/"
        },
        "id": "q9QxVYFyPzmI",
        "outputId": "1e345fc9-b413-4a56-d5a4-17922a1b20ff"
      },
      "execution_count": null,
      "outputs": [
        {
          "output_type": "stream",
          "name": "stdout",
          "text": [
            "Mounted at /content/drive\n"
          ]
        }
      ]
    },
    {
      "cell_type": "code",
      "execution_count": null,
      "metadata": {
        "id": "FKkBz5P5PSyw"
      },
      "outputs": [],
      "source": [
        "\n",
        "class ReseauNeurone:\n",
        "    def __init__(self, sizes=[784, 200, 10], epochs=10, lr=0.1):\n",
        "        self.sizes = sizes\n",
        "        self.epochs = epochs\n",
        "        self.lr = lr\n",
        "\n",
        "        input_layer = sizes[0]\n",
        "        hidden_1 = sizes[1]\n",
        "        output_layer = sizes[2]\n",
        "        self.v = {\n",
        "            \"W1\": np.zeros((200, 784)),\n",
        "            \"W2\": np.zeros((10, 200))\n",
        "        }\n",
        "        self.params = {\n",
        "            \"W1\": np.random.randn(hidden_1, input_layer) * np.sqrt(1 / hidden_1),\n",
        "            \"W2\": np.random.randn(output_layer, hidden_1) * np.sqrt(1 / output_layer),\n",
        "        }\n",
        "\n",
        "    def sigmoid(self, x, derivation=False):\n",
        "        # the flag is used in backwards\n",
        "        if derivation:\n",
        "            return (np.exp(-x)) / ((np.exp(-x) + 1) ** 2)\n",
        "        else:\n",
        "            return 1 / (np.exp(-x) + 1)\n",
        "\n",
        "    def softmax(self, x, derivation=False):\n",
        "        exps = np.exp(x - x.max())\n",
        "        if derivation:\n",
        "            return exps / np.sum(exps, axis=0) * (1 - exps / np.sum(exps, axis=0))\n",
        "        return exps / np.sum(exps, axis=0)\n",
        "\n",
        "    def forward_pass(self, x_train):\n",
        "        # using a copy is to keep list of weights for backpropagation\n",
        "        params = self.params\n",
        "        params[\"A0\"] = x_train\n",
        "        # from input_layer to hidden_1\n",
        "        params[\"Z1\"] = np.dot(params[\"W1\"], params[\"A0\"])\n",
        "        params[\"A1\"] = self.sigmoid(params[\"Z1\"])\n",
        "        # from hidden_1 to hidden_\n",
        "        params[\"Z2\"] = np.dot(params[\"W2\"], params[\"A1\"])\n",
        "        params[\"A2\"] = self.softmax(params[\"Z2\"])\n",
        "\n",
        "        return params['Z2']\n",
        "\n",
        "    def backward_pass(self, y_train, output):\n",
        "        params = self.params\n",
        "        change_w = {}\n",
        "        # calculate w3 update\n",
        "        error = 2 * (output - y_train) / output.shape[0] * self.softmax(params[\"Z2\"])\n",
        "        change_w['W2'] = np.outer(error, params[\"A1\"])\n",
        "        # calculate w2 update\n",
        "        error = np.dot(params['W2'].T, error) * self.sigmoid(params[\"Z1\"], derivation=True)\n",
        "        change_w['W1'] = np.outer(error, params[\"A0\"])\n",
        "\n",
        "        self.v[\"W2\"] = 0.9 * self.v[\"W2\"] + change_w[\"W2\"]\n",
        "        self.v[\"W1\"] = 0.9 * self.v[\"W1\"] + change_w[\"W1\"]\n",
        "\n",
        "        return self.v\n",
        "\n",
        "    def update_weights(self, v: dict):\n",
        "        for key, val in v.items():\n",
        "            self.params[key] -= self.lr * val\n",
        "\n",
        "    def compute_accuracy(self, test_data):\n",
        "        predictions = []\n",
        "        for x in test_data:\n",
        "            values = x.split(',')\n",
        "            inputs = (np.asfarray(values[1:]) / 255.0 * 0.99) + 0.01\n",
        "            targets = np.zeros(10) + 0.01\n",
        "            targets[int(values[0])] = 0.99\n",
        "            output = self.forward_pass(inputs)\n",
        "            pred = np.argmax(output)\n",
        "            predictions.append(pred == np.argmax(targets))\n",
        "        return np.mean(predictions)\n",
        "\n",
        "    def train(self, train_list, test_list):\n",
        "\n",
        "        for i in range(self.epochs):\n",
        "            np.random.shuffle(train_list)\n",
        "            for x in train_list:\n",
        "                values = x.split(',')\n",
        "\n",
        "                inputs = (np.asfarray(values[1:]) / 255.0 * 0.99) + 0.01\n",
        "\n",
        "                targets = np.zeros(10) + 0.01\n",
        "                targets[int(values[0])] = 0.99\n",
        "                output = self.forward_pass(inputs)\n",
        "                self.v = self.backward_pass(targets, output)\n",
        "                self.update_weights(self.v)\n",
        "            accuracy = self.compute_accuracy(test_list)\n",
        "            print(\"epoch:\", i + 1, \"accuracy\", accuracy, \"\")\n"
      ]
    },
    {
      "cell_type": "code",
      "source": [
        "reseau = ReseauNeurone(sizes=[784, 200, 10], epochs=5, lr=0.1)\n",
        "reseau.train(train_list, test_list)"
      ],
      "metadata": {
        "colab": {
          "base_uri": "https://localhost:8080/"
        },
        "id": "mBxm-mjhPqSH",
        "outputId": "74033b71-4a19-46a7-e172-3d018177c639"
      },
      "execution_count": null,
      "outputs": [
        {
          "output_type": "stream",
          "name": "stdout",
          "text": [
            "epoch: 1 accuracy 0.6757 \n",
            "epoch: 2 accuracy 0.6799 \n",
            "epoch: 3 accuracy 0.9338 \n",
            "epoch: 4 accuracy 0.9386 \n",
            "epoch: 5 accuracy 0.946 \n"
          ]
        }
      ]
    }
  ]
}